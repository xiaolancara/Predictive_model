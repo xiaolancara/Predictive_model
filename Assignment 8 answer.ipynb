{
 "cells": [
  {
   "cell_type": "code",
   "execution_count": 6,
   "metadata": {},
   "outputs": [],
   "source": [
    "import numpy as np\n",
    "import pandas as pd\n",
    "import matplotlib.pyplot as plt"
   ]
  },
  {
   "cell_type": "code",
   "execution_count": 123,
   "metadata": {},
   "outputs": [],
   "source": [
    "from statsmodels.discrete.discrete_model import Logit\n",
    "from statsmodels.tools.tools import add_constant\n",
    "from scipy.stats import chi2"
   ]
  },
  {
   "cell_type": "markdown",
   "metadata": {},
   "source": [
    "## Exercise 15.4  (.5)\n",
    "\n",
    "$$p(y; \\theta, \\phi) = exp\\Big\\{\\frac{y\\theta - b(\\theta)}{\\phi} - \\frac{1}{2}\\big[\\frac{y^2}{\\phi} + ln(2\\pi\\phi)\\big]\\Big\\} \\tag{1}$$\n",
    "\n",
    "Using:  \n",
    "$$\\theta = \\mu$$\n",
    "$$\\phi = \\sigma^2$$\n",
    "\n",
    "We can rewrite equation (1) as\n",
    "$$p(y; \\mu, \\sigma) = \\frac{1}{\\sqrt{2\\pi\\sigma^2}} exp\\Big\\{\\frac{y\\mu - \\mu^2 - y^2}{2\\sigma^2}\\Big\\}$$\n",
    "$$p(y; \\mu, \\sigma) = \\frac{1}{\\sqrt{2\\pi\\sigma^2}} exp\\Big\\{\\frac{(y-\\mu)^2}{2\\sigma^2}\\Big\\}$$\n",
    "which is the normal distribution, $\\mathcal{N}(\\mu, \\sigma^2)$."
   ]
  },
  {
   "cell_type": "markdown",
   "metadata": {},
   "source": [
    "## Exercise 15.5 (.5)\n",
    "\n",
    "$$p(y; \\theta, \\phi) = exp\\Big\\{\\frac{y\\theta - ln(1 + e^\\theta)}{1/n} + ln{n \\choose ny}\\Big\\} \\tag{1}$$\n",
    "\n",
    "Using:\n",
    "$$\\theta = ln\\frac{\\mu}{1-\\mu}$$\n",
    "$$\\phi = 1$$\n",
    "\n",
    "Note that:\n",
    "$$e^\\theta = \\frac{\\mu}{1-\\mu}$$\n",
    "so that\n",
    "$$1 + e^\\theta = \\frac{1}{1-\\mu}$$\n",
    "and\n",
    "$$ln(1+ e^\\theta) = -ln(1-\\mu)$$\n",
    "\n",
    "We can rewrite equation (1) as\n",
    "$$p(y; \\mu) = {n \\choose ny} exp \\Big\\{ \\frac{y ln\\frac{\\mu}{1-\\mu} + ln(1-\\mu)}{1/n} \\Big\\}$$\n",
    "\n",
    "$$p(y; \\mu) = {n \\choose ny} exp \\Big\\{ \\frac{y ln\\mu - yln(1-\\mu) + ln(1-\\mu)}{1/n} \\Big\\}$$\n",
    "\n",
    "$$p(y; \\mu) = {n \\choose ny} exp \\Big\\{ ny ln\\mu - nyln(1-\\mu) + nln(1-\\mu) \\Big\\}$$\n",
    "\n",
    "$$p(y; \\mu) = {n \\choose ny} exp \\Big\\{ ny ln\\mu + n(1-y)ln(1-\\mu)\\Big\\}$$\n",
    "\n",
    "$$p(y; \\mu) = {n \\choose ny} exp \\Big\\{ ln\\mu^{ny} + ln(1-\\mu)^{n(1-y)}  \\Big\\}$$\n",
    "\n",
    "$$p(y; \\mu) = {n \\choose ny}\\mu^{ny}(1-\\mu)^{n(1-y)}$$\n"
   ]
  },
  {
   "cell_type": "markdown",
   "metadata": {},
   "source": [
    "# D14.1 (2)"
   ]
  },
  {
   "cell_type": "markdown",
   "metadata": {},
   "source": [
    "## Chile"
   ]
  },
  {
   "cell_type": "code",
   "execution_count": 223,
   "metadata": {},
   "outputs": [
    {
     "data": {
      "text/html": [
       "<div>\n",
       "<style scoped>\n",
       "    .dataframe tbody tr th:only-of-type {\n",
       "        vertical-align: middle;\n",
       "    }\n",
       "\n",
       "    .dataframe tbody tr th {\n",
       "        vertical-align: top;\n",
       "    }\n",
       "\n",
       "    .dataframe thead th {\n",
       "        text-align: right;\n",
       "    }\n",
       "</style>\n",
       "<table border=\"1\" class=\"dataframe\">\n",
       "  <thead>\n",
       "    <tr style=\"text-align: right;\">\n",
       "      <th></th>\n",
       "      <th>region</th>\n",
       "      <th>population</th>\n",
       "      <th>sex</th>\n",
       "      <th>age</th>\n",
       "      <th>education</th>\n",
       "      <th>income</th>\n",
       "      <th>statusquo</th>\n",
       "      <th>vote</th>\n",
       "    </tr>\n",
       "  </thead>\n",
       "  <tbody>\n",
       "    <tr>\n",
       "      <th>1</th>\n",
       "      <td>N</td>\n",
       "      <td>175000</td>\n",
       "      <td>M</td>\n",
       "      <td>65.0</td>\n",
       "      <td>P</td>\n",
       "      <td>35000.0</td>\n",
       "      <td>1.00820</td>\n",
       "      <td>Y</td>\n",
       "    </tr>\n",
       "    <tr>\n",
       "      <th>2</th>\n",
       "      <td>N</td>\n",
       "      <td>175000</td>\n",
       "      <td>M</td>\n",
       "      <td>29.0</td>\n",
       "      <td>PS</td>\n",
       "      <td>7500.0</td>\n",
       "      <td>-1.29617</td>\n",
       "      <td>N</td>\n",
       "    </tr>\n",
       "    <tr>\n",
       "      <th>3</th>\n",
       "      <td>N</td>\n",
       "      <td>175000</td>\n",
       "      <td>F</td>\n",
       "      <td>38.0</td>\n",
       "      <td>P</td>\n",
       "      <td>15000.0</td>\n",
       "      <td>1.23072</td>\n",
       "      <td>Y</td>\n",
       "    </tr>\n",
       "    <tr>\n",
       "      <th>4</th>\n",
       "      <td>N</td>\n",
       "      <td>175000</td>\n",
       "      <td>F</td>\n",
       "      <td>49.0</td>\n",
       "      <td>P</td>\n",
       "      <td>35000.0</td>\n",
       "      <td>-1.03163</td>\n",
       "      <td>N</td>\n",
       "    </tr>\n",
       "    <tr>\n",
       "      <th>5</th>\n",
       "      <td>N</td>\n",
       "      <td>175000</td>\n",
       "      <td>F</td>\n",
       "      <td>23.0</td>\n",
       "      <td>S</td>\n",
       "      <td>35000.0</td>\n",
       "      <td>-1.10496</td>\n",
       "      <td>N</td>\n",
       "    </tr>\n",
       "    <tr>\n",
       "      <th>...</th>\n",
       "      <td>...</td>\n",
       "      <td>...</td>\n",
       "      <td>...</td>\n",
       "      <td>...</td>\n",
       "      <td>...</td>\n",
       "      <td>...</td>\n",
       "      <td>...</td>\n",
       "      <td>...</td>\n",
       "    </tr>\n",
       "    <tr>\n",
       "      <th>2692</th>\n",
       "      <td>M</td>\n",
       "      <td>15000</td>\n",
       "      <td>F</td>\n",
       "      <td>21.0</td>\n",
       "      <td>S</td>\n",
       "      <td>35000.0</td>\n",
       "      <td>1.22231</td>\n",
       "      <td>Y</td>\n",
       "    </tr>\n",
       "    <tr>\n",
       "      <th>2696</th>\n",
       "      <td>M</td>\n",
       "      <td>15000</td>\n",
       "      <td>M</td>\n",
       "      <td>42.0</td>\n",
       "      <td>P</td>\n",
       "      <td>15000.0</td>\n",
       "      <td>-1.26247</td>\n",
       "      <td>N</td>\n",
       "    </tr>\n",
       "    <tr>\n",
       "      <th>2697</th>\n",
       "      <td>M</td>\n",
       "      <td>15000</td>\n",
       "      <td>F</td>\n",
       "      <td>28.0</td>\n",
       "      <td>P</td>\n",
       "      <td>15000.0</td>\n",
       "      <td>1.32950</td>\n",
       "      <td>Y</td>\n",
       "    </tr>\n",
       "    <tr>\n",
       "      <th>2698</th>\n",
       "      <td>M</td>\n",
       "      <td>15000</td>\n",
       "      <td>F</td>\n",
       "      <td>44.0</td>\n",
       "      <td>P</td>\n",
       "      <td>75000.0</td>\n",
       "      <td>1.42045</td>\n",
       "      <td>Y</td>\n",
       "    </tr>\n",
       "    <tr>\n",
       "      <th>2700</th>\n",
       "      <td>M</td>\n",
       "      <td>15000</td>\n",
       "      <td>M</td>\n",
       "      <td>20.0</td>\n",
       "      <td>PS</td>\n",
       "      <td>35000.0</td>\n",
       "      <td>1.38179</td>\n",
       "      <td>Y</td>\n",
       "    </tr>\n",
       "  </tbody>\n",
       "</table>\n",
       "<p>1703 rows × 8 columns</p>\n",
       "</div>"
      ],
      "text/plain": [
       "     region  population sex   age education   income  statusquo vote\n",
       "1         N      175000   M  65.0         P  35000.0    1.00820    Y\n",
       "2         N      175000   M  29.0        PS   7500.0   -1.29617    N\n",
       "3         N      175000   F  38.0         P  15000.0    1.23072    Y\n",
       "4         N      175000   F  49.0         P  35000.0   -1.03163    N\n",
       "5         N      175000   F  23.0         S  35000.0   -1.10496    N\n",
       "...     ...         ...  ..   ...       ...      ...        ...  ...\n",
       "2692      M       15000   F  21.0         S  35000.0    1.22231    Y\n",
       "2696      M       15000   M  42.0         P  15000.0   -1.26247    N\n",
       "2697      M       15000   F  28.0         P  15000.0    1.32950    Y\n",
       "2698      M       15000   F  44.0         P  75000.0    1.42045    Y\n",
       "2700      M       15000   M  20.0        PS  35000.0    1.38179    Y\n",
       "\n",
       "[1703 rows x 8 columns]"
      ]
     },
     "execution_count": 223,
     "metadata": {},
     "output_type": "execute_result"
    }
   ],
   "source": [
    "df = pd.read_csv('https://socialsciences.mcmaster.ca/jfox/Books/Applied-Regression-2E/datasets/Chile.txt',\n",
    "                      sep = '\\s', engine='python')\n",
    "df = df.loc[(df['vote']=='Y') | (df['vote']=='N')]\n",
    "df = df.dropna()\n",
    "df"
   ]
  },
  {
   "cell_type": "code",
   "execution_count": 101,
   "metadata": {},
   "outputs": [
    {
     "name": "stdout",
     "output_type": "stream",
     "text": [
      "Optimization terminated successfully.\n",
      "         Current function value: 0.206846\n",
      "         Iterations 8\n"
     ]
    },
    {
     "data": {
      "text/html": [
       "<table class=\"simpletable\">\n",
       "<caption>Logit Regression Results</caption>\n",
       "<tr>\n",
       "  <th>Dep. Variable:</th>         <td>vote</td>       <th>  No. Observations:  </th>  <td>  1703</td> \n",
       "</tr>\n",
       "<tr>\n",
       "  <th>Model:</th>                 <td>Logit</td>      <th>  Df Residuals:      </th>  <td>  1691</td> \n",
       "</tr>\n",
       "<tr>\n",
       "  <th>Method:</th>                 <td>MLE</td>       <th>  Df Model:          </th>  <td>    11</td> \n",
       "</tr>\n",
       "<tr>\n",
       "  <th>Date:</th>            <td>Mon, 19 Jul 2021</td> <th>  Pseudo R-squ.:     </th>  <td>0.7015</td> \n",
       "</tr>\n",
       "<tr>\n",
       "  <th>Time:</th>                <td>18:41:02</td>     <th>  Log-Likelihood:    </th> <td> -352.26</td>\n",
       "</tr>\n",
       "<tr>\n",
       "  <th>converged:</th>             <td>True</td>       <th>  LL-Null:           </th> <td> -1180.1</td>\n",
       "</tr>\n",
       "<tr>\n",
       "  <th>Covariance Type:</th>     <td>nonrobust</td>    <th>  LLR p-value:       </th>  <td> 0.000</td> \n",
       "</tr>\n",
       "</table>\n",
       "<table class=\"simpletable\">\n",
       "<tr>\n",
       "        <td></td>          <th>coef</th>     <th>std err</th>      <th>z</th>      <th>P>|z|</th>  <th>[0.025</th>    <th>0.975]</th>  \n",
       "</tr>\n",
       "<tr>\n",
       "  <th>const</th>        <td>    1.0906</td> <td>    0.311</td> <td>    3.504</td> <td> 0.000</td> <td>    0.481</td> <td>    1.701</td>\n",
       "</tr>\n",
       "<tr>\n",
       "  <th>statusquo</th>    <td>    3.2009</td> <td>    0.148</td> <td>   21.568</td> <td> 0.000</td> <td>    2.910</td> <td>    3.492</td>\n",
       "</tr>\n",
       "<tr>\n",
       "  <th>male</th>         <td>   -0.5730</td> <td>    0.204</td> <td>   -2.808</td> <td> 0.005</td> <td>   -0.973</td> <td>   -0.173</td>\n",
       "</tr>\n",
       "<tr>\n",
       "  <th>high-income</th>  <td>   -0.1635</td> <td>    0.231</td> <td>   -0.707</td> <td> 0.480</td> <td>   -0.617</td> <td>    0.290</td>\n",
       "</tr>\n",
       "<tr>\n",
       "  <th>old</th>          <td>   -0.1696</td> <td>    0.496</td> <td>   -0.342</td> <td> 0.732</td> <td>   -1.142</td> <td>    0.803</td>\n",
       "</tr>\n",
       "<tr>\n",
       "  <th>young</th>        <td>   -0.0287</td> <td>    0.218</td> <td>   -0.132</td> <td> 0.895</td> <td>   -0.456</td> <td>    0.399</td>\n",
       "</tr>\n",
       "<tr>\n",
       "  <th>sec_edu</th>      <td>   -0.6669</td> <td>    0.246</td> <td>   -2.711</td> <td> 0.007</td> <td>   -1.149</td> <td>   -0.185</td>\n",
       "</tr>\n",
       "<tr>\n",
       "  <th>post_sec_edu</th> <td>   -1.0228</td> <td>    0.335</td> <td>   -3.053</td> <td> 0.002</td> <td>   -1.680</td> <td>   -0.366</td>\n",
       "</tr>\n",
       "<tr>\n",
       "  <th>region_C</th>     <td>    0.1334</td> <td>    0.279</td> <td>    0.478</td> <td> 0.633</td> <td>   -0.414</td> <td>    0.681</td>\n",
       "</tr>\n",
       "<tr>\n",
       "  <th>region_M</th>     <td>    0.7764</td> <td>    0.580</td> <td>    1.338</td> <td> 0.181</td> <td>   -0.361</td> <td>    1.913</td>\n",
       "</tr>\n",
       "<tr>\n",
       "  <th>region_N</th>     <td>    0.0698</td> <td>    0.335</td> <td>    0.209</td> <td> 0.835</td> <td>   -0.586</td> <td>    0.726</td>\n",
       "</tr>\n",
       "<tr>\n",
       "  <th>region_S</th>     <td>   -0.1771</td> <td>    0.260</td> <td>   -0.682</td> <td> 0.495</td> <td>   -0.686</td> <td>    0.332</td>\n",
       "</tr>\n",
       "</table>"
      ],
      "text/plain": [
       "<class 'statsmodels.iolib.summary.Summary'>\n",
       "\"\"\"\n",
       "                           Logit Regression Results                           \n",
       "==============================================================================\n",
       "Dep. Variable:                   vote   No. Observations:                 1703\n",
       "Model:                          Logit   Df Residuals:                     1691\n",
       "Method:                           MLE   Df Model:                           11\n",
       "Date:                Mon, 19 Jul 2021   Pseudo R-squ.:                  0.7015\n",
       "Time:                        18:41:02   Log-Likelihood:                -352.26\n",
       "converged:                       True   LL-Null:                       -1180.1\n",
       "Covariance Type:            nonrobust   LLR p-value:                     0.000\n",
       "================================================================================\n",
       "                   coef    std err          z      P>|z|      [0.025      0.975]\n",
       "--------------------------------------------------------------------------------\n",
       "const            1.0906      0.311      3.504      0.000       0.481       1.701\n",
       "statusquo        3.2009      0.148     21.568      0.000       2.910       3.492\n",
       "male            -0.5730      0.204     -2.808      0.005      -0.973      -0.173\n",
       "high-income     -0.1635      0.231     -0.707      0.480      -0.617       0.290\n",
       "old             -0.1696      0.496     -0.342      0.732      -1.142       0.803\n",
       "young           -0.0287      0.218     -0.132      0.895      -0.456       0.399\n",
       "sec_edu         -0.6669      0.246     -2.711      0.007      -1.149      -0.185\n",
       "post_sec_edu    -1.0228      0.335     -3.053      0.002      -1.680      -0.366\n",
       "region_C         0.1334      0.279      0.478      0.633      -0.414       0.681\n",
       "region_M         0.7764      0.580      1.338      0.181      -0.361       1.913\n",
       "region_N         0.0698      0.335      0.209      0.835      -0.586       0.726\n",
       "region_S        -0.1771      0.260     -0.682      0.495      -0.686       0.332\n",
       "================================================================================\n",
       "\"\"\""
      ]
     },
     "execution_count": 101,
     "metadata": {},
     "output_type": "execute_result"
    }
   ],
   "source": [
    "X = pd.DataFrame(np.array([\n",
    "    df['statusquo'],\n",
    "    1*(df['sex']=='M'),\n",
    "    1*(df['income'] > np.median(df['income'])),\n",
    "    df['age']>=65,\n",
    "    df['age']>30,\n",
    "    1*(df['education']=='S'),\n",
    "    1*(df['education']=='PS'),\n",
    "    1*(df['region']=='C'),\n",
    "    1*(df['region']=='M'),\n",
    "    1*(df['region']=='N'),\n",
    "    1*(df['region']=='S'),\n",
    "]), ['statusquo', 'male', 'high-income', 'old', 'young', 'sec_edu', 'post_sec_edu',\n",
    "    'region_C', 'region_M', 'region_N', 'region_S']).T\n",
    "X = add_constant(X)\n",
    "y = pd.DataFrame((1*(df['vote']=='Y').values)[:,None], columns=['vote'])\n",
    "\n",
    "lr = Logit(y, X).fit()\n",
    "lr.summary()"
   ]
  },
  {
   "cell_type": "markdown",
   "metadata": {},
   "source": [
    "These regressors have high p values:\n",
    "- high-income\n",
    "- old\n",
    "- young\n",
    "- region_*\n",
    "\n",
    "so I'll drop them."
   ]
  },
  {
   "cell_type": "code",
   "execution_count": 103,
   "metadata": {},
   "outputs": [
    {
     "name": "stdout",
     "output_type": "stream",
     "text": [
      "Optimization terminated successfully.\n",
      "         Current function value: 0.207938\n",
      "         Iterations 8\n"
     ]
    },
    {
     "data": {
      "text/html": [
       "<table class=\"simpletable\">\n",
       "<caption>Logit Regression Results</caption>\n",
       "<tr>\n",
       "  <th>Dep. Variable:</th>         <td>vote</td>       <th>  No. Observations:  </th>  <td>  1703</td> \n",
       "</tr>\n",
       "<tr>\n",
       "  <th>Model:</th>                 <td>Logit</td>      <th>  Df Residuals:      </th>  <td>  1698</td> \n",
       "</tr>\n",
       "<tr>\n",
       "  <th>Method:</th>                 <td>MLE</td>       <th>  Df Model:          </th>  <td>     4</td> \n",
       "</tr>\n",
       "<tr>\n",
       "  <th>Date:</th>            <td>Mon, 19 Jul 2021</td> <th>  Pseudo R-squ.:     </th>  <td>0.6999</td> \n",
       "</tr>\n",
       "<tr>\n",
       "  <th>Time:</th>                <td>18:42:22</td>     <th>  Log-Likelihood:    </th> <td> -354.12</td>\n",
       "</tr>\n",
       "<tr>\n",
       "  <th>converged:</th>             <td>True</td>       <th>  LL-Null:           </th> <td> -1180.1</td>\n",
       "</tr>\n",
       "<tr>\n",
       "  <th>Covariance Type:</th>     <td>nonrobust</td>    <th>  LLR p-value:       </th>  <td> 0.000</td> \n",
       "</tr>\n",
       "</table>\n",
       "<table class=\"simpletable\">\n",
       "<tr>\n",
       "        <td></td>          <th>coef</th>     <th>std err</th>      <th>z</th>      <th>P>|z|</th>  <th>[0.025</th>    <th>0.975]</th>  \n",
       "</tr>\n",
       "<tr>\n",
       "  <th>const</th>        <td>    1.0153</td> <td>    0.189</td> <td>    5.373</td> <td> 0.000</td> <td>    0.645</td> <td>    1.386</td>\n",
       "</tr>\n",
       "<tr>\n",
       "  <th>statusquo</th>    <td>    3.1689</td> <td>    0.145</td> <td>   21.886</td> <td> 0.000</td> <td>    2.885</td> <td>    3.453</td>\n",
       "</tr>\n",
       "<tr>\n",
       "  <th>male</th>         <td>   -0.5742</td> <td>    0.202</td> <td>   -2.840</td> <td> 0.005</td> <td>   -0.971</td> <td>   -0.178</td>\n",
       "</tr>\n",
       "<tr>\n",
       "  <th>sec_edu</th>      <td>   -0.6828</td> <td>    0.222</td> <td>   -3.079</td> <td> 0.002</td> <td>   -1.117</td> <td>   -0.248</td>\n",
       "</tr>\n",
       "<tr>\n",
       "  <th>post_sec_edu</th> <td>   -1.1074</td> <td>    0.291</td> <td>   -3.800</td> <td> 0.000</td> <td>   -1.679</td> <td>   -0.536</td>\n",
       "</tr>\n",
       "</table>"
      ],
      "text/plain": [
       "<class 'statsmodels.iolib.summary.Summary'>\n",
       "\"\"\"\n",
       "                           Logit Regression Results                           \n",
       "==============================================================================\n",
       "Dep. Variable:                   vote   No. Observations:                 1703\n",
       "Model:                          Logit   Df Residuals:                     1698\n",
       "Method:                           MLE   Df Model:                            4\n",
       "Date:                Mon, 19 Jul 2021   Pseudo R-squ.:                  0.6999\n",
       "Time:                        18:42:22   Log-Likelihood:                -354.12\n",
       "converged:                       True   LL-Null:                       -1180.1\n",
       "Covariance Type:            nonrobust   LLR p-value:                     0.000\n",
       "================================================================================\n",
       "                   coef    std err          z      P>|z|      [0.025      0.975]\n",
       "--------------------------------------------------------------------------------\n",
       "const            1.0153      0.189      5.373      0.000       0.645       1.386\n",
       "statusquo        3.1689      0.145     21.886      0.000       2.885       3.453\n",
       "male            -0.5742      0.202     -2.840      0.005      -0.971      -0.178\n",
       "sec_edu         -0.6828      0.222     -3.079      0.002      -1.117      -0.248\n",
       "post_sec_edu    -1.1074      0.291     -3.800      0.000      -1.679      -0.536\n",
       "================================================================================\n",
       "\"\"\""
      ]
     },
     "execution_count": 103,
     "metadata": {},
     "output_type": "execute_result"
    }
   ],
   "source": [
    "X = pd.DataFrame(np.array([\n",
    "    df['statusquo'],\n",
    "    1*(df['sex']=='M'),\n",
    "\n",
    "    1*(df['education']=='S'),\n",
    "    1*(df['education']=='PS'),\n",
    "\n",
    "]), ['statusquo', 'male', 'sec_edu', 'post_sec_edu']).T\n",
    "X = add_constant(X)\n",
    "y = pd.DataFrame((1*(df['vote']=='Y').values)[:,None], columns=['vote'])\n",
    "\n",
    "lr = Logit(y, X).fit()\n",
    "lr.summary()"
   ]
  },
  {
   "cell_type": "code",
   "execution_count": 104,
   "metadata": {},
   "outputs": [
    {
     "name": "stdout",
     "output_type": "stream",
     "text": [
      "Optimization terminated successfully.\n",
      "         Current function value: 0.692981\n",
      "         Iterations 3\n"
     ]
    },
    {
     "data": {
      "text/html": [
       "<table class=\"simpletable\">\n",
       "<caption>Logit Regression Results</caption>\n",
       "<tr>\n",
       "  <th>Dep. Variable:</th>         <td>vote</td>       <th>  No. Observations:  </th>  <td>  1703</td>  \n",
       "</tr>\n",
       "<tr>\n",
       "  <th>Model:</th>                 <td>Logit</td>      <th>  Df Residuals:      </th>  <td>  1702</td>  \n",
       "</tr>\n",
       "<tr>\n",
       "  <th>Method:</th>                 <td>MLE</td>       <th>  Df Model:          </th>  <td>     0</td>  \n",
       "</tr>\n",
       "<tr>\n",
       "  <th>Date:</th>            <td>Mon, 19 Jul 2021</td> <th>  Pseudo R-squ.:     </th> <td>1.328e-10</td>\n",
       "</tr>\n",
       "<tr>\n",
       "  <th>Time:</th>                <td>18:43:58</td>     <th>  Log-Likelihood:    </th> <td> -1180.1</td> \n",
       "</tr>\n",
       "<tr>\n",
       "  <th>converged:</th>             <td>True</td>       <th>  LL-Null:           </th> <td> -1180.1</td> \n",
       "</tr>\n",
       "<tr>\n",
       "  <th>Covariance Type:</th>     <td>nonrobust</td>    <th>  LLR p-value:       </th>  <td>   nan</td>  \n",
       "</tr>\n",
       "</table>\n",
       "<table class=\"simpletable\">\n",
       "<tr>\n",
       "    <td></td>       <th>coef</th>     <th>std err</th>      <th>z</th>      <th>P>|z|</th>  <th>[0.025</th>    <th>0.975]</th>  \n",
       "</tr>\n",
       "<tr>\n",
       "  <th>const</th> <td>   -0.0364</td> <td>    0.048</td> <td>   -0.751</td> <td> 0.453</td> <td>   -0.131</td> <td>    0.059</td>\n",
       "</tr>\n",
       "</table>"
      ],
      "text/plain": [
       "<class 'statsmodels.iolib.summary.Summary'>\n",
       "\"\"\"\n",
       "                           Logit Regression Results                           \n",
       "==============================================================================\n",
       "Dep. Variable:                   vote   No. Observations:                 1703\n",
       "Model:                          Logit   Df Residuals:                     1702\n",
       "Method:                           MLE   Df Model:                            0\n",
       "Date:                Mon, 19 Jul 2021   Pseudo R-squ.:               1.328e-10\n",
       "Time:                        18:43:58   Log-Likelihood:                -1180.1\n",
       "converged:                       True   LL-Null:                       -1180.1\n",
       "Covariance Type:            nonrobust   LLR p-value:                       nan\n",
       "==============================================================================\n",
       "                 coef    std err          z      P>|z|      [0.025      0.975]\n",
       "------------------------------------------------------------------------------\n",
       "const         -0.0364      0.048     -0.751      0.453      -0.131       0.059\n",
       "==============================================================================\n",
       "\"\"\""
      ]
     },
     "execution_count": 104,
     "metadata": {},
     "output_type": "execute_result"
    }
   ],
   "source": [
    "X0 = np.ones(y.shape)\n",
    "lr0 = Logit(y, X0).fit()\n",
    "lr0.summary()"
   ]
  },
  {
   "cell_type": "markdown",
   "metadata": {},
   "source": [
    "Recall that the residual deviance is $$D = -2(lnL_{saturated} - lnL_{model})$$  \n",
    "To compare two models, A and B, calcuate $$D_{B} - D_{A} = -2(lnL_{saturated} - lnL_{modelB}) - -2(lnL_{saturated} - lnL_{modelA}) = -2(lnL_{modelA} - lnL_{modelB})$$\n",
    "Note that $$D_{B} - D_{A} \\sim \\chi^2_{k_{B}-k_{A}}$$\n",
    "Compare the model in the variable `lr` to the baseline model in `lr0` with the difference of devices `dod = -2*(lr0.llf - lr.llf)`."
   ]
  },
  {
   "cell_type": "code",
   "execution_count": 155,
   "metadata": {},
   "outputs": [
    {
     "name": "stdout",
     "output_type": "stream",
     "text": [
      "-354.11827993612485\n",
      "-1180.1474837610178\n"
     ]
    }
   ],
   "source": [
    "print (lr.llf)\n",
    "print (lr0.llf)"
   ]
  },
  {
   "cell_type": "code",
   "execution_count": 159,
   "metadata": {},
   "outputs": [
    {
     "name": "stdout",
     "output_type": "stream",
     "text": [
      "D - D0 = 1652.06\n",
      "p-value = 0.0000e+00\n"
     ]
    }
   ],
   "source": [
    "dod = -2*(lr0.llf - lr.llf)\n",
    "print (f\"D - D0 = {dod:.2f}\")\n",
    "k = len(lr.model.exog_names)\n",
    "k0 = len(lr0.model.exog_names)\n",
    "p_value = 1 - chi2.cdf(dod, k-k0)\n",
    "print (f\"p-value = {p_value:.4e}\")"
   ]
  },
  {
   "cell_type": "markdown",
   "metadata": {},
   "source": [
    "dod is very large, so the p-value is indistinguishable from 0."
   ]
  },
  {
   "cell_type": "markdown",
   "metadata": {},
   "source": [
    "## Titanic"
   ]
  },
  {
   "cell_type": "code",
   "execution_count": 212,
   "metadata": {},
   "outputs": [
    {
     "data": {
      "text/html": [
       "<div>\n",
       "<style scoped>\n",
       "    .dataframe tbody tr th:only-of-type {\n",
       "        vertical-align: middle;\n",
       "    }\n",
       "\n",
       "    .dataframe tbody tr th {\n",
       "        vertical-align: top;\n",
       "    }\n",
       "\n",
       "    .dataframe thead th {\n",
       "        text-align: right;\n",
       "    }\n",
       "</style>\n",
       "<table border=\"1\" class=\"dataframe\">\n",
       "  <thead>\n",
       "    <tr style=\"text-align: right;\">\n",
       "      <th></th>\n",
       "      <th>name</th>\n",
       "      <th>survived</th>\n",
       "      <th>age</th>\n",
       "      <th>passengerClass</th>\n",
       "      <th>sex</th>\n",
       "    </tr>\n",
       "  </thead>\n",
       "  <tbody>\n",
       "    <tr>\n",
       "      <th>0</th>\n",
       "      <td>Allen, Miss Elisabeth Walton</td>\n",
       "      <td>yes</td>\n",
       "      <td>29.0000</td>\n",
       "      <td>1st</td>\n",
       "      <td>female</td>\n",
       "    </tr>\n",
       "    <tr>\n",
       "      <th>1</th>\n",
       "      <td>Allison, Miss Helen Loraine</td>\n",
       "      <td>no</td>\n",
       "      <td>2.0000</td>\n",
       "      <td>1st</td>\n",
       "      <td>female</td>\n",
       "    </tr>\n",
       "    <tr>\n",
       "      <th>2</th>\n",
       "      <td>Allison, Mr Hudson Joshua Creighton</td>\n",
       "      <td>no</td>\n",
       "      <td>30.0000</td>\n",
       "      <td>1st</td>\n",
       "      <td>male</td>\n",
       "    </tr>\n",
       "    <tr>\n",
       "      <th>3</th>\n",
       "      <td>Allison, Mrs Hudson J.C. (Bessie Waldo Daniels)</td>\n",
       "      <td>no</td>\n",
       "      <td>25.0000</td>\n",
       "      <td>1st</td>\n",
       "      <td>female</td>\n",
       "    </tr>\n",
       "    <tr>\n",
       "      <th>4</th>\n",
       "      <td>Allison, Master Hudson Trevor</td>\n",
       "      <td>yes</td>\n",
       "      <td>0.9167</td>\n",
       "      <td>1st</td>\n",
       "      <td>male</td>\n",
       "    </tr>\n",
       "    <tr>\n",
       "      <th>...</th>\n",
       "      <td>...</td>\n",
       "      <td>...</td>\n",
       "      <td>...</td>\n",
       "      <td>...</td>\n",
       "      <td>...</td>\n",
       "    </tr>\n",
       "    <tr>\n",
       "      <th>833</th>\n",
       "      <td>Gronnestad, Mr Daniel Danielsen</td>\n",
       "      <td>no</td>\n",
       "      <td>32.0000</td>\n",
       "      <td>3rd</td>\n",
       "      <td>male</td>\n",
       "    </tr>\n",
       "    <tr>\n",
       "      <th>835</th>\n",
       "      <td>Gustafsson, Mr Alfred Ossian</td>\n",
       "      <td>no</td>\n",
       "      <td>20.0000</td>\n",
       "      <td>3rd</td>\n",
       "      <td>male</td>\n",
       "    </tr>\n",
       "    <tr>\n",
       "      <th>836</th>\n",
       "      <td>Gustafsson, Mr Anders Vilhelm</td>\n",
       "      <td>no</td>\n",
       "      <td>37.0000</td>\n",
       "      <td>3rd</td>\n",
       "      <td>male</td>\n",
       "    </tr>\n",
       "    <tr>\n",
       "      <th>837</th>\n",
       "      <td>Gustafsson, Mr Johan Birger</td>\n",
       "      <td>no</td>\n",
       "      <td>28.0000</td>\n",
       "      <td>3rd</td>\n",
       "      <td>male</td>\n",
       "    </tr>\n",
       "    <tr>\n",
       "      <th>838</th>\n",
       "      <td>Gustafsson, Mr Karl Gideon</td>\n",
       "      <td>no</td>\n",
       "      <td>19.0000</td>\n",
       "      <td>3rd</td>\n",
       "      <td>male</td>\n",
       "    </tr>\n",
       "  </tbody>\n",
       "</table>\n",
       "<p>633 rows × 5 columns</p>\n",
       "</div>"
      ],
      "text/plain": [
       "                                                name survived      age  \\\n",
       "0                       Allen, Miss Elisabeth Walton      yes  29.0000   \n",
       "1                        Allison, Miss Helen Loraine       no   2.0000   \n",
       "2                Allison, Mr Hudson Joshua Creighton       no  30.0000   \n",
       "3    Allison, Mrs Hudson J.C. (Bessie Waldo Daniels)       no  25.0000   \n",
       "4                      Allison, Master Hudson Trevor      yes   0.9167   \n",
       "..                                               ...      ...      ...   \n",
       "833                  Gronnestad, Mr Daniel Danielsen       no  32.0000   \n",
       "835                     Gustafsson, Mr Alfred Ossian       no  20.0000   \n",
       "836                    Gustafsson, Mr Anders Vilhelm       no  37.0000   \n",
       "837                      Gustafsson, Mr Johan Birger       no  28.0000   \n",
       "838                       Gustafsson, Mr Karl Gideon       no  19.0000   \n",
       "\n",
       "    passengerClass     sex  \n",
       "0              1st  female  \n",
       "1              1st  female  \n",
       "2              1st    male  \n",
       "3              1st  female  \n",
       "4              1st    male  \n",
       "..             ...     ...  \n",
       "833            3rd    male  \n",
       "835            3rd    male  \n",
       "836            3rd    male  \n",
       "837            3rd    male  \n",
       "838            3rd    male  \n",
       "\n",
       "[633 rows x 5 columns]"
      ]
     },
     "execution_count": 212,
     "metadata": {},
     "output_type": "execute_result"
    }
   ],
   "source": [
    "df = pd.read_csv('/Users/dsweet2/Desktop/Titanic.txt',\n",
    "                      sep = '\\t', engine='python')\n",
    "df=df.dropna()\n",
    "df"
   ]
  },
  {
   "cell_type": "code",
   "execution_count": 213,
   "metadata": {},
   "outputs": [
    {
     "data": {
      "text/plain": [
       "array(['1st', '2nd', '3rd'], dtype=object)"
      ]
     },
     "execution_count": 213,
     "metadata": {},
     "output_type": "execute_result"
    }
   ],
   "source": [
    "np.unique(df['passengerClass'])"
   ]
  },
  {
   "cell_type": "code",
   "execution_count": 214,
   "metadata": {},
   "outputs": [
    {
     "name": "stdout",
     "output_type": "stream",
     "text": [
      "Optimization terminated successfully.\n",
      "         Current function value: 0.449965\n",
      "         Iterations 6\n"
     ]
    },
    {
     "data": {
      "text/html": [
       "<table class=\"simpletable\">\n",
       "<caption>Logit Regression Results</caption>\n",
       "<tr>\n",
       "  <th>Dep. Variable:</th>         <td>vote</td>       <th>  No. Observations:  </th>  <td>   633</td>  \n",
       "</tr>\n",
       "<tr>\n",
       "  <th>Model:</th>                 <td>Logit</td>      <th>  Df Residuals:      </th>  <td>   628</td>  \n",
       "</tr>\n",
       "<tr>\n",
       "  <th>Method:</th>                 <td>MLE</td>       <th>  Df Model:          </th>  <td>     4</td>  \n",
       "</tr>\n",
       "<tr>\n",
       "  <th>Date:</th>            <td>Mon, 19 Jul 2021</td> <th>  Pseudo R-squ.:     </th>  <td>0.3449</td>  \n",
       "</tr>\n",
       "<tr>\n",
       "  <th>Time:</th>                <td>19:38:14</td>     <th>  Log-Likelihood:    </th> <td> -284.83</td> \n",
       "</tr>\n",
       "<tr>\n",
       "  <th>converged:</th>             <td>True</td>       <th>  LL-Null:           </th> <td> -434.77</td> \n",
       "</tr>\n",
       "<tr>\n",
       "  <th>Covariance Type:</th>     <td>nonrobust</td>    <th>  LLR p-value:       </th> <td>1.145e-63</td>\n",
       "</tr>\n",
       "</table>\n",
       "<table class=\"simpletable\">\n",
       "<tr>\n",
       "     <td></td>        <th>coef</th>     <th>std err</th>      <th>z</th>      <th>P>|z|</th>  <th>[0.025</th>    <th>0.975]</th>  \n",
       "</tr>\n",
       "<tr>\n",
       "  <th>const</th>   <td>    0.6434</td> <td>    0.240</td> <td>    2.682</td> <td> 0.007</td> <td>    0.173</td> <td>    1.113</td>\n",
       "</tr>\n",
       "<tr>\n",
       "  <th>class_1</th> <td>    2.2089</td> <td>    0.305</td> <td>    7.236</td> <td> 0.000</td> <td>    1.611</td> <td>    2.807</td>\n",
       "</tr>\n",
       "<tr>\n",
       "  <th>class_2</th> <td>    1.1600</td> <td>    0.279</td> <td>    4.160</td> <td> 0.000</td> <td>    0.614</td> <td>    1.706</td>\n",
       "</tr>\n",
       "<tr>\n",
       "  <th>male</th>    <td>   -3.0008</td> <td>    0.231</td> <td>  -12.974</td> <td> 0.000</td> <td>   -3.454</td> <td>   -2.548</td>\n",
       "</tr>\n",
       "<tr>\n",
       "  <th>old</th>     <td>   -0.5433</td> <td>    0.232</td> <td>   -2.343</td> <td> 0.019</td> <td>   -0.998</td> <td>   -0.089</td>\n",
       "</tr>\n",
       "</table>"
      ],
      "text/plain": [
       "<class 'statsmodels.iolib.summary.Summary'>\n",
       "\"\"\"\n",
       "                           Logit Regression Results                           \n",
       "==============================================================================\n",
       "Dep. Variable:                   vote   No. Observations:                  633\n",
       "Model:                          Logit   Df Residuals:                      628\n",
       "Method:                           MLE   Df Model:                            4\n",
       "Date:                Mon, 19 Jul 2021   Pseudo R-squ.:                  0.3449\n",
       "Time:                        19:38:14   Log-Likelihood:                -284.83\n",
       "converged:                       True   LL-Null:                       -434.77\n",
       "Covariance Type:            nonrobust   LLR p-value:                 1.145e-63\n",
       "==============================================================================\n",
       "                 coef    std err          z      P>|z|      [0.025      0.975]\n",
       "------------------------------------------------------------------------------\n",
       "const          0.6434      0.240      2.682      0.007       0.173       1.113\n",
       "class_1        2.2089      0.305      7.236      0.000       1.611       2.807\n",
       "class_2        1.1600      0.279      4.160      0.000       0.614       1.706\n",
       "male          -3.0008      0.231    -12.974      0.000      -3.454      -2.548\n",
       "old           -0.5433      0.232     -2.343      0.019      -0.998      -0.089\n",
       "==============================================================================\n",
       "\"\"\""
      ]
     },
     "execution_count": 214,
     "metadata": {},
     "output_type": "execute_result"
    }
   ],
   "source": [
    "X = pd.DataFrame(np.array([\n",
    "    1*(df['passengerClass']=='1st'),\n",
    "    1*(df['passengerClass']=='2nd'),\n",
    "    1*(df['sex']=='male'),\n",
    "    1*(df['age'] > np.median(df['age'])),\n",
    "]), ['class_1', 'class_2', 'male', 'old']).T\n",
    "X = add_constant(X)\n",
    "y = pd.DataFrame((1*(df['survived']=='yes').values)[:,None], columns=['vote'])\n",
    "\n",
    "lr = Logit(y, X).fit()\n",
    "lr.summary()"
   ]
  },
  {
   "cell_type": "markdown",
   "metadata": {},
   "source": [
    "All of these variables have low p-values. I'll keep them all."
   ]
  },
  {
   "cell_type": "code",
   "execution_count": 215,
   "metadata": {},
   "outputs": [
    {
     "name": "stdout",
     "output_type": "stream",
     "text": [
      "Optimization terminated successfully.\n",
      "         Current function value: 0.686844\n",
      "         Iterations 4\n"
     ]
    },
    {
     "data": {
      "text/html": [
       "<table class=\"simpletable\">\n",
       "<caption>Logit Regression Results</caption>\n",
       "<tr>\n",
       "  <th>Dep. Variable:</th>         <td>vote</td>       <th>  No. Observations:  </th>  <td>   633</td>  \n",
       "</tr>\n",
       "<tr>\n",
       "  <th>Model:</th>                 <td>Logit</td>      <th>  Df Residuals:      </th>  <td>   632</td>  \n",
       "</tr>\n",
       "<tr>\n",
       "  <th>Method:</th>                 <td>MLE</td>       <th>  Df Model:          </th>  <td>     0</td>  \n",
       "</tr>\n",
       "<tr>\n",
       "  <th>Date:</th>            <td>Mon, 19 Jul 2021</td> <th>  Pseudo R-squ.:     </th> <td>1.263e-10</td>\n",
       "</tr>\n",
       "<tr>\n",
       "  <th>Time:</th>                <td>19:38:57</td>     <th>  Log-Likelihood:    </th> <td> -434.77</td> \n",
       "</tr>\n",
       "<tr>\n",
       "  <th>converged:</th>             <td>True</td>       <th>  LL-Null:           </th> <td> -434.77</td> \n",
       "</tr>\n",
       "<tr>\n",
       "  <th>Covariance Type:</th>     <td>nonrobust</td>    <th>  LLR p-value:       </th>  <td>   nan</td>  \n",
       "</tr>\n",
       "</table>\n",
       "<table class=\"simpletable\">\n",
       "<tr>\n",
       "    <td></td>       <th>coef</th>     <th>std err</th>      <th>z</th>      <th>P>|z|</th>  <th>[0.025</th>    <th>0.975]</th>  \n",
       "</tr>\n",
       "<tr>\n",
       "  <th>const</th> <td>   -0.2253</td> <td>    0.080</td> <td>   -2.816</td> <td> 0.005</td> <td>   -0.382</td> <td>   -0.068</td>\n",
       "</tr>\n",
       "</table>"
      ],
      "text/plain": [
       "<class 'statsmodels.iolib.summary.Summary'>\n",
       "\"\"\"\n",
       "                           Logit Regression Results                           \n",
       "==============================================================================\n",
       "Dep. Variable:                   vote   No. Observations:                  633\n",
       "Model:                          Logit   Df Residuals:                      632\n",
       "Method:                           MLE   Df Model:                            0\n",
       "Date:                Mon, 19 Jul 2021   Pseudo R-squ.:               1.263e-10\n",
       "Time:                        19:38:57   Log-Likelihood:                -434.77\n",
       "converged:                       True   LL-Null:                       -434.77\n",
       "Covariance Type:            nonrobust   LLR p-value:                       nan\n",
       "==============================================================================\n",
       "                 coef    std err          z      P>|z|      [0.025      0.975]\n",
       "------------------------------------------------------------------------------\n",
       "const         -0.2253      0.080     -2.816      0.005      -0.382      -0.068\n",
       "==============================================================================\n",
       "\"\"\""
      ]
     },
     "execution_count": 215,
     "metadata": {},
     "output_type": "execute_result"
    }
   ],
   "source": [
    "X0 = np.ones(y.shape)\n",
    "lr0 = Logit(y, X0).fit()\n",
    "lr0.summary()"
   ]
  },
  {
   "cell_type": "code",
   "execution_count": 216,
   "metadata": {},
   "outputs": [
    {
     "name": "stdout",
     "output_type": "stream",
     "text": [
      "D - D0 = 299.89\n",
      "p-value = 0.0000e+00\n"
     ]
    }
   ],
   "source": [
    "dod = -2*(lr0.llf - lr.llf)\n",
    "print (f\"D - D0 = {dod:.2f}\")\n",
    "k = len(lr.model.exog_names)\n",
    "k0 = len(lr0.model.exog_names)\n",
    "p_value = 1 - chi2.cdf(dod, k-k0)\n",
    "print (f\"p-value = {p_value:.4e}\")"
   ]
  },
  {
   "cell_type": "markdown",
   "metadata": {},
   "source": [
    "dod is very large, so the p-value is indistinguishable from 0."
   ]
  },
  {
   "cell_type": "markdown",
   "metadata": {},
   "source": [
    "# D15.1 (2)"
   ]
  },
  {
   "cell_type": "code",
   "execution_count": 224,
   "metadata": {},
   "outputs": [
    {
     "data": {
      "text/html": [
       "<div>\n",
       "<style scoped>\n",
       "    .dataframe tbody tr th:only-of-type {\n",
       "        vertical-align: middle;\n",
       "    }\n",
       "\n",
       "    .dataframe tbody tr th {\n",
       "        vertical-align: top;\n",
       "    }\n",
       "\n",
       "    .dataframe thead th {\n",
       "        text-align: right;\n",
       "    }\n",
       "</style>\n",
       "<table border=\"1\" class=\"dataframe\">\n",
       "  <thead>\n",
       "    <tr style=\"text-align: right;\">\n",
       "      <th></th>\n",
       "      <th>fem</th>\n",
       "      <th>ment</th>\n",
       "      <th>phd</th>\n",
       "      <th>mar</th>\n",
       "      <th>kid5</th>\n",
       "      <th>art</th>\n",
       "    </tr>\n",
       "  </thead>\n",
       "  <tbody>\n",
       "    <tr>\n",
       "      <th>1</th>\n",
       "      <td>0</td>\n",
       "      <td>8</td>\n",
       "      <td>1.38</td>\n",
       "      <td>1</td>\n",
       "      <td>2</td>\n",
       "      <td>3</td>\n",
       "    </tr>\n",
       "    <tr>\n",
       "      <th>2</th>\n",
       "      <td>0</td>\n",
       "      <td>7</td>\n",
       "      <td>4.29</td>\n",
       "      <td>0</td>\n",
       "      <td>0</td>\n",
       "      <td>0</td>\n",
       "    </tr>\n",
       "    <tr>\n",
       "      <th>3</th>\n",
       "      <td>0</td>\n",
       "      <td>47</td>\n",
       "      <td>3.85</td>\n",
       "      <td>0</td>\n",
       "      <td>0</td>\n",
       "      <td>4</td>\n",
       "    </tr>\n",
       "    <tr>\n",
       "      <th>4</th>\n",
       "      <td>0</td>\n",
       "      <td>19</td>\n",
       "      <td>3.59</td>\n",
       "      <td>1</td>\n",
       "      <td>1</td>\n",
       "      <td>1</td>\n",
       "    </tr>\n",
       "    <tr>\n",
       "      <th>5</th>\n",
       "      <td>0</td>\n",
       "      <td>0</td>\n",
       "      <td>1.81</td>\n",
       "      <td>1</td>\n",
       "      <td>0</td>\n",
       "      <td>1</td>\n",
       "    </tr>\n",
       "    <tr>\n",
       "      <th>...</th>\n",
       "      <td>...</td>\n",
       "      <td>...</td>\n",
       "      <td>...</td>\n",
       "      <td>...</td>\n",
       "      <td>...</td>\n",
       "      <td>...</td>\n",
       "    </tr>\n",
       "    <tr>\n",
       "      <th>911</th>\n",
       "      <td>1</td>\n",
       "      <td>0</td>\n",
       "      <td>2.12</td>\n",
       "      <td>1</td>\n",
       "      <td>0</td>\n",
       "      <td>1</td>\n",
       "    </tr>\n",
       "    <tr>\n",
       "      <th>912</th>\n",
       "      <td>1</td>\n",
       "      <td>5</td>\n",
       "      <td>3.75</td>\n",
       "      <td>0</td>\n",
       "      <td>0</td>\n",
       "      <td>2</td>\n",
       "    </tr>\n",
       "    <tr>\n",
       "      <th>913</th>\n",
       "      <td>1</td>\n",
       "      <td>0</td>\n",
       "      <td>0.76</td>\n",
       "      <td>0</td>\n",
       "      <td>0</td>\n",
       "      <td>0</td>\n",
       "    </tr>\n",
       "    <tr>\n",
       "      <th>914</th>\n",
       "      <td>1</td>\n",
       "      <td>7</td>\n",
       "      <td>2.25</td>\n",
       "      <td>0</td>\n",
       "      <td>0</td>\n",
       "      <td>1</td>\n",
       "    </tr>\n",
       "    <tr>\n",
       "      <th>915</th>\n",
       "      <td>1</td>\n",
       "      <td>3</td>\n",
       "      <td>3.19</td>\n",
       "      <td>0</td>\n",
       "      <td>0</td>\n",
       "      <td>1</td>\n",
       "    </tr>\n",
       "  </tbody>\n",
       "</table>\n",
       "<p>915 rows × 6 columns</p>\n",
       "</div>"
      ],
      "text/plain": [
       "     fem  ment   phd  mar  kid5  art\n",
       "1      0     8  1.38    1     2    3\n",
       "2      0     7  4.29    0     0    0\n",
       "3      0    47  3.85    0     0    4\n",
       "4      0    19  3.59    1     1    1\n",
       "5      0     0  1.81    1     0    1\n",
       "..   ...   ...   ...  ...   ...  ...\n",
       "911    1     0  2.12    1     0    1\n",
       "912    1     5  3.75    0     0    2\n",
       "913    1     0  0.76    0     0    0\n",
       "914    1     7  2.25    0     0    1\n",
       "915    1     3  3.19    0     0    1\n",
       "\n",
       "[915 rows x 6 columns]"
      ]
     },
     "execution_count": 224,
     "metadata": {},
     "output_type": "execute_result"
    }
   ],
   "source": [
    "df = pd.read_csv('https://socialsciences.mcmaster.ca/jfox/Books/Applied-Regression-2E/datasets/Long.txt',\n",
    "                      sep = '\\s+', engine='python')\n",
    "df"
   ]
  },
  {
   "cell_type": "code",
   "execution_count": 259,
   "metadata": {},
   "outputs": [
    {
     "name": "stdout",
     "output_type": "stream",
     "text": [
      "values of 'art': [ 0  1  2  3  4  5  6  7  8  9 10 11 12 16 19]\n"
     ]
    },
    {
     "data": {
      "image/png": "[encoded data removed]",
      "text/plain": [
       "<Figure size 432x288 with 1 Axes>"
      ]
     },
     "metadata": {},
     "output_type": "display_data"
    }
   ],
   "source": [
    "y = df['art']\n",
    "unique_y = np.unique(y)\n",
    "print (\"values of 'art':\", unique_y)\n",
    "plt.hist(y, 25);\n",
    "plt.title(f'art\\n{len(unique_y)} unique values');"
   ]
  },
  {
   "cell_type": "markdown",
   "metadata": {},
   "source": [
    "`art` has 15 unique values, roughly counting up from 0.\n",
    "\n",
    "Since `art` represents a count, it's a good candidate for a Poisson-distribution GLM model, but we'll try a linear regression (a Gaussian-distribution GLM model) first, since starting simple is never a bad idea."
   ]
  },
  {
   "cell_type": "code",
   "execution_count": 229,
   "metadata": {},
   "outputs": [],
   "source": [
    "from statsmodels.api import GLM"
   ]
  },
  {
   "cell_type": "code",
   "execution_count": 230,
   "metadata": {},
   "outputs": [
    {
     "data": {
      "text/plain": [
       "Index(['fem', 'ment', 'phd', 'mar', 'kid5', 'art'], dtype='object')"
      ]
     },
     "execution_count": 230,
     "metadata": {},
     "output_type": "execute_result"
    }
   ],
   "source": [
    "df.columns"
   ]
  },
  {
   "cell_type": "code",
   "execution_count": 250,
   "metadata": {},
   "outputs": [
    {
     "data": {
      "image/png": "[encoded data removed]",
      "text/plain": [
       "<Figure size 432x288 with 1 Axes>"
      ]
     },
     "metadata": {},
     "output_type": "display_data"
    }
   ],
   "source": [
    "plt.hist(df['ment'],25);"
   ]
  },
  {
   "cell_type": "code",
   "execution_count": 249,
   "metadata": {},
   "outputs": [
    {
     "data": {
      "image/png": "[encoded data removed]",
      "text/plain": [
       "<Figure size 432x288 with 1 Axes>"
      ]
     },
     "metadata": {},
     "output_type": "display_data"
    }
   ],
   "source": [
    "plt.hist(np.log(1+df['ment']),25);"
   ]
  },
  {
   "cell_type": "code",
   "execution_count": 251,
   "metadata": {},
   "outputs": [
    {
     "data": {
      "image/png": "[encoded data removed]",
      "text/plain": [
       "<Figure size 432x288 with 1 Axes>"
      ]
     },
     "metadata": {},
     "output_type": "display_data"
    }
   ],
   "source": [
    "plt.hist(df['kid5'],25);"
   ]
  },
  {
   "cell_type": "code",
   "execution_count": 263,
   "metadata": {},
   "outputs": [
    {
     "data": {
      "text/html": [
       "<table class=\"simpletable\">\n",
       "<caption>Generalized Linear Model Regression Results</caption>\n",
       "<tr>\n",
       "  <th>Dep. Variable:</th>          <td>art</td>       <th>  No. Observations:  </th>  <td>   915</td> \n",
       "</tr>\n",
       "<tr>\n",
       "  <th>Model:</th>                  <td>GLM</td>       <th>  Df Residuals:      </th>  <td>   909</td> \n",
       "</tr>\n",
       "<tr>\n",
       "  <th>Model Family:</th>        <td>Gaussian</td>     <th>  Df Model:          </th>  <td>     5</td> \n",
       "</tr>\n",
       "<tr>\n",
       "  <th>Link Function:</th>       <td>identity</td>     <th>  Scale:             </th> <td>  3.3331</td>\n",
       "</tr>\n",
       "<tr>\n",
       "  <th>Method:</th>                <td>IRLS</td>       <th>  Log-Likelihood:    </th> <td> -1846.1</td>\n",
       "</tr>\n",
       "<tr>\n",
       "  <th>Date:</th>            <td>Mon, 19 Jul 2021</td> <th>  Deviance:          </th> <td>  3029.8</td>\n",
       "</tr>\n",
       "<tr>\n",
       "  <th>Time:</th>                <td>20:11:52</td>     <th>  Pearson chi2:      </th> <td>3.03e+03</td>\n",
       "</tr>\n",
       "<tr>\n",
       "  <th>No. Iterations:</th>          <td>3</td>        <th>                     </th>     <td> </td>   \n",
       "</tr>\n",
       "<tr>\n",
       "  <th>Covariance Type:</th>     <td>nonrobust</td>    <th>                     </th>     <td> </td>   \n",
       "</tr>\n",
       "</table>\n",
       "<table class=\"simpletable\">\n",
       "<tr>\n",
       "     <td></td>       <th>coef</th>     <th>std err</th>      <th>z</th>      <th>P>|z|</th>  <th>[0.025</th>    <th>0.975]</th>  \n",
       "</tr>\n",
       "<tr>\n",
       "  <th>const</th>  <td>    0.8099</td> <td>    0.251</td> <td>    3.230</td> <td> 0.001</td> <td>    0.318</td> <td>    1.301</td>\n",
       "</tr>\n",
       "<tr>\n",
       "  <th>phd</th>    <td>   -0.0355</td> <td>    0.065</td> <td>   -0.549</td> <td> 0.583</td> <td>   -0.162</td> <td>    0.091</td>\n",
       "</tr>\n",
       "<tr>\n",
       "  <th>female</th> <td>   -0.4080</td> <td>    0.128</td> <td>   -3.181</td> <td> 0.001</td> <td>   -0.659</td> <td>   -0.157</td>\n",
       "</tr>\n",
       "<tr>\n",
       "  <th>ment</th>   <td>    0.6044</td> <td>    0.067</td> <td>    9.073</td> <td> 0.000</td> <td>    0.474</td> <td>    0.735</td>\n",
       "</tr>\n",
       "<tr>\n",
       "  <th>kid5</th>   <td>   -0.2795</td> <td>    0.091</td> <td>   -3.068</td> <td> 0.002</td> <td>   -0.458</td> <td>   -0.101</td>\n",
       "</tr>\n",
       "<tr>\n",
       "  <th>mar</th>    <td>    0.2869</td> <td>    0.146</td> <td>    1.968</td> <td> 0.049</td> <td>    0.001</td> <td>    0.573</td>\n",
       "</tr>\n",
       "</table>"
      ],
      "text/plain": [
       "<class 'statsmodels.iolib.summary.Summary'>\n",
       "\"\"\"\n",
       "                 Generalized Linear Model Regression Results                  \n",
       "==============================================================================\n",
       "Dep. Variable:                    art   No. Observations:                  915\n",
       "Model:                            GLM   Df Residuals:                      909\n",
       "Model Family:                Gaussian   Df Model:                            5\n",
       "Link Function:               identity   Scale:                          3.3331\n",
       "Method:                          IRLS   Log-Likelihood:                -1846.1\n",
       "Date:                Mon, 19 Jul 2021   Deviance:                       3029.8\n",
       "Time:                        20:11:52   Pearson chi2:                 3.03e+03\n",
       "No. Iterations:                     3                                         \n",
       "Covariance Type:            nonrobust                                         \n",
       "==============================================================================\n",
       "                 coef    std err          z      P>|z|      [0.025      0.975]\n",
       "------------------------------------------------------------------------------\n",
       "const          0.8099      0.251      3.230      0.001       0.318       1.301\n",
       "phd           -0.0355      0.065     -0.549      0.583      -0.162       0.091\n",
       "female        -0.4080      0.128     -3.181      0.001      -0.659      -0.157\n",
       "ment           0.6044      0.067      9.073      0.000       0.474       0.735\n",
       "kid5          -0.2795      0.091     -3.068      0.002      -0.458      -0.101\n",
       "mar            0.2869      0.146      1.968      0.049       0.001       0.573\n",
       "==============================================================================\n",
       "\"\"\""
      ]
     },
     "execution_count": 263,
     "metadata": {},
     "output_type": "execute_result"
    }
   ],
   "source": [
    "X = pd.DataFrame(np.array([\n",
    "    df['phd'],\n",
    "    df['fem'],\n",
    "    np.log(1+df['ment']),\n",
    "    df['kid5'],\n",
    "    df['mar']\n",
    "]), ['phd', 'female', 'ment', 'kid5', 'mar']).T\n",
    "X = add_constant(X)\n",
    "y = pd.DataFrame(df['art'].values[:,None], columns=['art'])\n",
    "\n",
    "gr = GLM(y, X, family=sm.families.Gaussian()).fit()\n",
    "gr.summary()"
   ]
  },
  {
   "cell_type": "markdown",
   "metadata": {},
   "source": [
    "`phd` doesn't seem significant"
   ]
  },
  {
   "cell_type": "code",
   "execution_count": 276,
   "metadata": {},
   "outputs": [
    {
     "data": {
      "text/html": [
       "<table class=\"simpletable\">\n",
       "<caption>Generalized Linear Model Regression Results</caption>\n",
       "<tr>\n",
       "  <th>Dep. Variable:</th>          <td>art</td>       <th>  No. Observations:  </th>  <td>   915</td> \n",
       "</tr>\n",
       "<tr>\n",
       "  <th>Model:</th>                  <td>GLM</td>       <th>  Df Residuals:      </th>  <td>   910</td> \n",
       "</tr>\n",
       "<tr>\n",
       "  <th>Model Family:</th>        <td>Gaussian</td>     <th>  Df Model:          </th>  <td>     4</td> \n",
       "</tr>\n",
       "<tr>\n",
       "  <th>Link Function:</th>       <td>identity</td>     <th>  Scale:             </th> <td>  3.3305</td>\n",
       "</tr>\n",
       "<tr>\n",
       "  <th>Method:</th>                <td>IRLS</td>       <th>  Log-Likelihood:    </th> <td> -1846.3</td>\n",
       "</tr>\n",
       "<tr>\n",
       "  <th>Date:</th>            <td>Mon, 19 Jul 2021</td> <th>  Deviance:          </th> <td>  3030.8</td>\n",
       "</tr>\n",
       "<tr>\n",
       "  <th>Time:</th>                <td>20:19:44</td>     <th>  Pearson chi2:      </th> <td>3.03e+03</td>\n",
       "</tr>\n",
       "<tr>\n",
       "  <th>No. Iterations:</th>          <td>3</td>        <th>                     </th>     <td> </td>   \n",
       "</tr>\n",
       "<tr>\n",
       "  <th>Covariance Type:</th>     <td>nonrobust</td>    <th>                     </th>     <td> </td>   \n",
       "</tr>\n",
       "</table>\n",
       "<table class=\"simpletable\">\n",
       "<tr>\n",
       "     <td></td>       <th>coef</th>     <th>std err</th>      <th>z</th>      <th>P>|z|</th>  <th>[0.025</th>    <th>0.975]</th>  \n",
       "</tr>\n",
       "<tr>\n",
       "  <th>const</th>  <td>    0.7156</td> <td>    0.183</td> <td>    3.918</td> <td> 0.000</td> <td>    0.358</td> <td>    1.074</td>\n",
       "</tr>\n",
       "<tr>\n",
       "  <th>female</th> <td>   -0.4060</td> <td>    0.128</td> <td>   -3.168</td> <td> 0.002</td> <td>   -0.657</td> <td>   -0.155</td>\n",
       "</tr>\n",
       "<tr>\n",
       "  <th>ment</th>   <td>    0.5934</td> <td>    0.063</td> <td>    9.348</td> <td> 0.000</td> <td>    0.469</td> <td>    0.718</td>\n",
       "</tr>\n",
       "<tr>\n",
       "  <th>kid5</th>   <td>   -0.2795</td> <td>    0.091</td> <td>   -3.070</td> <td> 0.002</td> <td>   -0.458</td> <td>   -0.101</td>\n",
       "</tr>\n",
       "<tr>\n",
       "  <th>mar</th>    <td>    0.2928</td> <td>    0.145</td> <td>    2.015</td> <td> 0.044</td> <td>    0.008</td> <td>    0.578</td>\n",
       "</tr>\n",
       "</table>"
      ],
      "text/plain": [
       "<class 'statsmodels.iolib.summary.Summary'>\n",
       "\"\"\"\n",
       "                 Generalized Linear Model Regression Results                  \n",
       "==============================================================================\n",
       "Dep. Variable:                    art   No. Observations:                  915\n",
       "Model:                            GLM   Df Residuals:                      910\n",
       "Model Family:                Gaussian   Df Model:                            4\n",
       "Link Function:               identity   Scale:                          3.3305\n",
       "Method:                          IRLS   Log-Likelihood:                -1846.3\n",
       "Date:                Mon, 19 Jul 2021   Deviance:                       3030.8\n",
       "Time:                        20:19:44   Pearson chi2:                 3.03e+03\n",
       "No. Iterations:                     3                                         \n",
       "Covariance Type:            nonrobust                                         \n",
       "==============================================================================\n",
       "                 coef    std err          z      P>|z|      [0.025      0.975]\n",
       "------------------------------------------------------------------------------\n",
       "const          0.7156      0.183      3.918      0.000       0.358       1.074\n",
       "female        -0.4060      0.128     -3.168      0.002      -0.657      -0.155\n",
       "ment           0.5934      0.063      9.348      0.000       0.469       0.718\n",
       "kid5          -0.2795      0.091     -3.070      0.002      -0.458      -0.101\n",
       "mar            0.2928      0.145      2.015      0.044       0.008       0.578\n",
       "==============================================================================\n",
       "\"\"\""
      ]
     },
     "execution_count": 276,
     "metadata": {},
     "output_type": "execute_result"
    }
   ],
   "source": [
    "X = pd.DataFrame(np.array([\n",
    "    df['fem'],\n",
    "    np.log(1+df['ment']),\n",
    "    df['kid5'],\n",
    "    df['mar']\n",
    "]), ['female', 'ment', 'kid5', 'mar']).T\n",
    "X = add_constant(X)\n",
    "y = pd.DataFrame(df['art'].values[:,None], columns=['art'])\n",
    "\n",
    "gr = GLM(y, X, family=sm.families.Gaussian()).fit()\n",
    "gr.summary()"
   ]
  },
  {
   "cell_type": "code",
   "execution_count": 284,
   "metadata": {},
   "outputs": [
    {
     "data": {
      "image/png": "[encoded data removed]",
      "text/plain": [
       "<Figure size 432x288 with 1 Axes>"
      ]
     },
     "metadata": {},
     "output_type": "display_data"
    }
   ],
   "source": [
    "eps = y.values.flatten() - gr.predict(X)\n",
    "plt.hist(eps,25);\n",
    "plt.title('residuals');"
   ]
  },
  {
   "cell_type": "markdown",
   "metadata": {},
   "source": [
    "The residuals are not quite normal-looking. They are skewed to the right. Since an ideal linear regression requires normally-distributed residuals, maybe it's worth investigating the Poisson regression."
   ]
  },
  {
   "cell_type": "code",
   "execution_count": 285,
   "metadata": {},
   "outputs": [
    {
     "data": {
      "text/html": [
       "<table class=\"simpletable\">\n",
       "<caption>Generalized Linear Model Regression Results</caption>\n",
       "<tr>\n",
       "  <th>Dep. Variable:</th>          <td>art</td>       <th>  No. Observations:  </th>  <td>   915</td> \n",
       "</tr>\n",
       "<tr>\n",
       "  <th>Model:</th>                  <td>GLM</td>       <th>  Df Residuals:      </th>  <td>   910</td> \n",
       "</tr>\n",
       "<tr>\n",
       "  <th>Model Family:</th>         <td>Poisson</td>     <th>  Df Model:          </th>  <td>     4</td> \n",
       "</tr>\n",
       "<tr>\n",
       "  <th>Link Function:</th>          <td>log</td>       <th>  Scale:             </th> <td>  1.0000</td>\n",
       "</tr>\n",
       "<tr>\n",
       "  <th>Method:</th>                <td>IRLS</td>       <th>  Log-Likelihood:    </th> <td> -1633.6</td>\n",
       "</tr>\n",
       "<tr>\n",
       "  <th>Date:</th>            <td>Mon, 19 Jul 2021</td> <th>  Deviance:          </th> <td>  1599.5</td>\n",
       "</tr>\n",
       "<tr>\n",
       "  <th>Time:</th>                <td>20:21:01</td>     <th>  Pearson chi2:      </th> <td>1.65e+03</td>\n",
       "</tr>\n",
       "<tr>\n",
       "  <th>No. Iterations:</th>          <td>5</td>        <th>                     </th>     <td> </td>   \n",
       "</tr>\n",
       "<tr>\n",
       "  <th>Covariance Type:</th>     <td>nonrobust</td>    <th>                     </th>     <td> </td>   \n",
       "</tr>\n",
       "</table>\n",
       "<table class=\"simpletable\">\n",
       "<tr>\n",
       "     <td></td>       <th>coef</th>     <th>std err</th>      <th>z</th>      <th>P>|z|</th>  <th>[0.025</th>    <th>0.975]</th>  \n",
       "</tr>\n",
       "<tr>\n",
       "  <th>const</th>  <td>   -0.1554</td> <td>    0.085</td> <td>   -1.837</td> <td> 0.066</td> <td>   -0.321</td> <td>    0.010</td>\n",
       "</tr>\n",
       "<tr>\n",
       "  <th>female</th> <td>   -0.2326</td> <td>    0.054</td> <td>   -4.274</td> <td> 0.000</td> <td>   -0.339</td> <td>   -0.126</td>\n",
       "</tr>\n",
       "<tr>\n",
       "  <th>ment</th>   <td>    0.3681</td> <td>    0.028</td> <td>   13.030</td> <td> 0.000</td> <td>    0.313</td> <td>    0.423</td>\n",
       "</tr>\n",
       "<tr>\n",
       "  <th>kid5</th>   <td>   -0.1719</td> <td>    0.040</td> <td>   -4.309</td> <td> 0.000</td> <td>   -0.250</td> <td>   -0.094</td>\n",
       "</tr>\n",
       "<tr>\n",
       "  <th>mar</th>    <td>    0.1721</td> <td>    0.061</td> <td>    2.822</td> <td> 0.005</td> <td>    0.053</td> <td>    0.292</td>\n",
       "</tr>\n",
       "</table>"
      ],
      "text/plain": [
       "<class 'statsmodels.iolib.summary.Summary'>\n",
       "\"\"\"\n",
       "                 Generalized Linear Model Regression Results                  \n",
       "==============================================================================\n",
       "Dep. Variable:                    art   No. Observations:                  915\n",
       "Model:                            GLM   Df Residuals:                      910\n",
       "Model Family:                 Poisson   Df Model:                            4\n",
       "Link Function:                    log   Scale:                          1.0000\n",
       "Method:                          IRLS   Log-Likelihood:                -1633.6\n",
       "Date:                Mon, 19 Jul 2021   Deviance:                       1599.5\n",
       "Time:                        20:21:01   Pearson chi2:                 1.65e+03\n",
       "No. Iterations:                     5                                         \n",
       "Covariance Type:            nonrobust                                         \n",
       "==============================================================================\n",
       "                 coef    std err          z      P>|z|      [0.025      0.975]\n",
       "------------------------------------------------------------------------------\n",
       "const         -0.1554      0.085     -1.837      0.066      -0.321       0.010\n",
       "female        -0.2326      0.054     -4.274      0.000      -0.339      -0.126\n",
       "ment           0.3681      0.028     13.030      0.000       0.313       0.423\n",
       "kid5          -0.1719      0.040     -4.309      0.000      -0.250      -0.094\n",
       "mar            0.1721      0.061      2.822      0.005       0.053       0.292\n",
       "==============================================================================\n",
       "\"\"\""
      ]
     },
     "execution_count": 285,
     "metadata": {},
     "output_type": "execute_result"
    }
   ],
   "source": [
    "grp = GLM(y, X, family=sm.families.Poisson()).fit()\n",
    "grp.summary()"
   ]
  },
  {
   "cell_type": "markdown",
   "metadata": {},
   "source": [
    "Which model is better?\n",
    "\n",
    "You cannot directly compare the log-likelihoods (or the deviances, or the $R^2$'s, ...) of the two models, `gr` and `grp`, because the link functions and error distributions are different.  \n",
    "\n",
    "So what do you do?\n",
    "\n",
    "\n",
    " 1) To compare any two models (or, more generally, any two components of a system you are engineering), you need to create a single objective that applies to both of them.  \n",
    " \n",
    " 2a) That objective should reflect the broader goal(s) of the system. What business or social need are you trying to serve? To produce revenue, induce web site clicks, autopilot a car, etc.? The way to compare the models is to measure how each performs at that task.  \n",
    " \n",
    " 2b) You could also create a subobjective, like peformance on a simulation of the task on logged data. For example, you could simulate trading on historical market data using each of the models and see which makes more simulated money.\n",
    "\n",
    "\n"
   ]
  },
  {
   "cell_type": "code",
   "execution_count": null,
   "metadata": {},
   "outputs": [],
   "source": []
  }
 ],
 "metadata": {
  "kernelspec": {
   "display_name": "Python 3",
   "language": "python",
   "name": "python3"
  },
  "language_info": {
   "codemirror_mode": {
    "name": "ipython",
    "version": 3
   },
   "file_extension": ".py",
   "mimetype": "text/x-python",
   "name": "python",
   "nbconvert_exporter": "python",
   "pygments_lexer": "ipython3",
   "version": "3.6.3"
  }
 },
 "nbformat": 4,
 "nbformat_minor": 2
}
