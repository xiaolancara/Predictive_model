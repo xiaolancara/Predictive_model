{
 "cells": [
  {
   "cell_type": "code",
   "execution_count": 1,
   "metadata": {},
   "outputs": [],
   "source": [
    "import numpy as np\n",
    "import matplotlib.pyplot as plt"
   ]
  },
  {
   "cell_type": "markdown",
   "metadata": {},
   "source": [
    "## 1a  (2)\n",
    "\n",
    "Write out lnL(B) for logistic regression. Omit the constant term and use one regressor so that the model has only one parameter, B."
   ]
  },
  {
   "cell_type": "markdown",
   "metadata": {},
   "source": [
    "$$logit(\\pi_i) = B_x$$\n",
    "$$\\pi_i = \\frac{1}{1 + e^{-B x_i}}$$\n",
    "$$L = \\prod_i \\pi_i ^ {y_i} (1-\\pi_i)^{(1-y_i)}$$\n",
    "$$lnL = \\sum_i \\{ y_i ln\\pi_i + (1-y_i) ln(1-\\pi_i) \\} $$"
   ]
  },
  {
   "cell_type": "markdown",
   "metadata": {},
   "source": [
    "## 1b (1)\n",
    "\n",
    "Also write it using NumPy in a Python function like \"log_likelihood(x,y,B)\"."
   ]
  },
  {
   "cell_type": "code",
   "execution_count": 2,
   "metadata": {},
   "outputs": [],
   "source": [
    "def log_likelihood(x,y,B):\n",
    "    pi = 1 / (1 + np.exp(-B*x))\n",
    "    return (y*np.log(pi) + (1-y)*np.log(1-pi)).sum()"
   ]
  },
  {
   "cell_type": "markdown",
   "metadata": {},
   "source": [
    "## 1c (1)\n",
    "\n",
    "Generate some data"
   ]
  },
  {
   "cell_type": "code",
   "execution_count": 3,
   "metadata": {},
   "outputs": [],
   "source": [
    "np.random.seed(17)\n",
    "n = 100\n",
    "x = np.random.uniform(size=(n,))\n",
    "y = 1*(x + .1*np.random.normal(size=(n,))>.5)"
   ]
  },
  {
   "cell_type": "code",
   "execution_count": 4,
   "metadata": {},
   "outputs": [
    {
     "data": {
      "image/png": "[encoded data removed]",
      "text/plain": [
       "<Figure size 432x288 with 1 Axes>"
      ]
     },
     "metadata": {},
     "output_type": "display_data"
    }
   ],
   "source": [
    "plt.plot(x, y, '.');\n",
    "plt.xlabel('x')\n",
    "plt.ylabel('y');"
   ]
  },
  {
   "cell_type": "markdown",
   "metadata": {},
   "source": [
    " ## 1d (1)\n",
    "\n",
    "Compute log_likelihood() for many values of B (ex., using np.arange() or np.linspace()) and plot lnL vs. B. Which value of B should you choose as the estimate of beta, the parameter of the model?"
   ]
  },
  {
   "cell_type": "code",
   "execution_count": 5,
   "metadata": {},
   "outputs": [
    {
     "data": {
      "image/png": "[encoded data removed]",
      "text/plain": [
       "<Figure size 432x288 with 1 Axes>"
      ]
     },
     "metadata": {},
     "output_type": "display_data"
    }
   ],
   "source": [
    "B = np.linspace(-1, 4, 100)\n",
    "lnL = np.array([log_likelihood(x, y, b) for b in B])\n",
    "plt.plot(B, lnL, '.--');"
   ]
  },
  {
   "cell_type": "code",
   "execution_count": 6,
   "metadata": {},
   "outputs": [
    {
     "name": "stdout",
     "output_type": "stream",
     "text": [
      "The value of B that maximizes lnL is B = 1.88\n"
     ]
    }
   ],
   "source": [
    "i = np.where(lnL == lnL.max())[0]\n",
    "print (f\"The value of B that maximizes lnL is B = {float(B[i]):.2f}\")"
   ]
  },
  {
   "cell_type": "code",
   "execution_count": null,
   "metadata": {},
   "outputs": [],
   "source": []
  }
 ],
 "metadata": {
  "kernelspec": {
   "display_name": "Python 3",
   "language": "python",
   "name": "python3"
  },
  "language_info": {
   "codemirror_mode": {
    "name": "ipython",
    "version": 3
   },
   "file_extension": ".py",
   "mimetype": "text/x-python",
   "name": "python",
   "nbconvert_exporter": "python",
   "pygments_lexer": "ipython3",
   "version": "3.6.3"
  }
 },
 "nbformat": 4,
 "nbformat_minor": 2
}
