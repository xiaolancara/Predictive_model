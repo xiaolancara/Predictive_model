{
 "cells": [
  {
   "cell_type": "code",
   "execution_count": 1,
   "metadata": {},
   "outputs": [],
   "source": [
    "import numpy as np"
   ]
  },
  {
   "cell_type": "markdown",
   "metadata": {},
   "source": [
    "## Data set"
   ]
  },
  {
   "cell_type": "code",
   "execution_count": 2,
   "metadata": {},
   "outputs": [],
   "source": [
    "x1 = np.array([ 0.        ,  3.33333333,  6.66666667, 10.        ,  0.        ,\n",
    "        3.33333333,  6.66666667, 10.        ,  0.        ,  3.33333333,\n",
    "        6.66666667, 10.        ,  0.        ,  3.33333333,  6.66666667,\n",
    "       10.        ])\n",
    "x2 = np.array([0.        , 0.        , 0.        , 0.        , 0.33333333,\n",
    "       0.33333333, 0.33333333, 0.33333333, 0.66666667, 0.66666667,\n",
    "       0.66666667, 0.66666667, 1.        , 1.        , 1.        ,\n",
    "       1.        ])\n",
    "y = np.array([ 1.22353179,  3.57574634,  5.89217837,  8.19889324,  1.96307308,\n",
    "        4.57556858,  7.48364786,  9.2400334 ,  2.9048125 ,  5.74174653,\n",
    "        8.19832673, 10.69424417,  4.15380028,  7.12275093,  8.8976015 ,\n",
    "       11.76820779])"
   ]
  },
  {
   "cell_type": "code",
   "execution_count": 3,
   "metadata": {},
   "outputs": [
    {
     "data": {
      "text/plain": [
       "(array([ 0.        ,  3.33333333,  6.66666667, 10.        ,  0.        ,\n",
       "         3.33333333,  6.66666667, 10.        ,  0.        ,  3.33333333,\n",
       "         6.66666667, 10.        ,  0.        ,  3.33333333,  6.66666667,\n",
       "        10.        ]),\n",
       " array([0.        , 0.        , 0.        , 0.        , 0.33333333,\n",
       "        0.33333333, 0.33333333, 0.33333333, 0.66666667, 0.66666667,\n",
       "        0.66666667, 0.66666667, 1.        , 1.        , 1.        ,\n",
       "        1.        ]),\n",
       " array([ 1.22353179,  3.57574634,  5.89217837,  8.19889324,  1.96307308,\n",
       "         4.57556858,  7.48364786,  9.2400334 ,  2.9048125 ,  5.74174653,\n",
       "         8.19832673, 10.69424417,  4.15380028,  7.12275093,  8.8976015 ,\n",
       "        11.76820779]))"
      ]
     },
     "execution_count": 3,
     "metadata": {},
     "output_type": "execute_result"
    }
   ],
   "source": [
    "x1, x2, y"
   ]
  },
  {
   "cell_type": "markdown",
   "metadata": {},
   "source": [
    "## 1\n",
    "a) Run a linear regression to find A, B1, and B2.  \n",
    "b) Calculate SE(B1) and SE(B2)  \n",
    "c) Calculate a prediction, y_hat, at x1=5, x2=.5 along with $SE(yhat) = \\sqrt{RSS/(n-k-1)} / \\sqrt{n}$"
   ]
  },
  {
   "cell_type": "code",
   "execution_count": 4,
   "metadata": {},
   "outputs": [
    {
     "name": "stdout",
     "output_type": "stream",
     "text": [
      "A 1.0325\n",
      "B1 0.7382\n",
      "B2 3.2575\n"
     ]
    }
   ],
   "source": [
    "import pandas as pd\n",
    "from sklearn.linear_model import LinearRegression\n",
    "\n",
    "df = pd.DataFrame()\n",
    "df['x1']=x1\n",
    "df['x2']=x2\n",
    "df['y']=y\n",
    "\n",
    "# a\n",
    "x = np.array(df[['x1','x2']])\n",
    "reg = LinearRegression().fit(x, y)\n",
    "A = reg.intercept_\n",
    "print('A', round(A,4))\n",
    "print('B1', round(reg.coef_[0],4))\n",
    "print('B2', round(reg.coef_[1],4))"
   ]
  },
  {
   "cell_type": "code",
   "execution_count": 5,
   "metadata": {},
   "outputs": [
    {
     "name": "stdout",
     "output_type": "stream",
     "text": [
      "SE_B1 0.0139\n",
      "SE_B2 0.0265\n"
     ]
    }
   ],
   "source": [
    "#b\n",
    "k = x.shape[1]\n",
    "n = x.shape[0]\n",
    "yhat=reg.predict(x)\n",
    "E=y-yhat\n",
    "SSE=sum(E**2)\n",
    "SE=np.sqrt( SSE/(n-k-1) )\n",
    "SE_B = SE/np.sqrt(sum((x-x.mean())**2))\n",
    "print('SE_B1', round(SE_B[0],4))\n",
    "print('SE_B2', round(SE_B[1],4))"
   ]
  },
  {
   "cell_type": "code",
   "execution_count": 6,
   "metadata": {},
   "outputs": [
    {
     "name": "stdout",
     "output_type": "stream",
     "text": [
      "yhat [6.35213519]\n",
      "SE_yhat 0.8362\n"
     ]
    }
   ],
   "source": [
    "# c\n",
    "yhat_sample=reg.predict(np.array([[5,0.5]]))\n",
    "print('yhat', yhat_sample)\n",
    "\n",
    "RSS = sum((y-yhat_sample)**2)\n",
    "SE_yhat = (np.sqrt(RSS/(n-k-1)))/np.sqrt(n)\n",
    "print('SE_yhat', round(SE_yhat,4))"
   ]
  },
  {
   "cell_type": "markdown",
   "metadata": {},
   "source": [
    "## 2\n",
    "a) Calculate m=100 bootstrap sample sets from the original set of 16 samples and, for each bootstrap sample set, estimate A_bs, B1_bs, and B2_bs by regression. (You'll have 100 estimates of each of A_bs, B1_bs, and B2_bs.)  \n",
    "b) Compute SE(B1_bs) and SE(B2_bs) directly from the m=100 samples. Do they match SE(B1) and SE(B2) from part 1, above?  \n",
    "c) For each model, A_bs, B1_bs, and B2_bs, calculate a prediction, y_hat_bs, at x1=5, x2=.5. From that set of predictions, compute SE(y_hat_bs). Does it match SE(y_hat) from part 1, above?  \n",
    "  \n",
    "  \n",
    "Hint: Be sure the values of y, x1, and x2 stay aligned when you draw a sample from the original data. Ex: Randomly drawing the i'th sample would yield (y[i],x1[i],x2[i]) -- all with the same i."
   ]
  },
  {
   "cell_type": "code",
   "execution_count": 7,
   "metadata": {},
   "outputs": [
    {
     "name": "stdout",
     "output_type": "stream",
     "text": [
      "100 100 100 100 100\n"
     ]
    }
   ],
   "source": [
    "# a\n",
    "# x includes x1, x2\n",
    "def bootstrap(x, y):\n",
    "    i = np.random.randint(0,len(x),size=(len(x)))\n",
    "    return x[i], y[i]\n",
    "\n",
    "m=100\n",
    "bootstrap_xs = []\n",
    "bootstrap_ys = []\n",
    "A_bs = []\n",
    "B1_bs = []\n",
    "B2_bs = []\n",
    "model_bs = []\n",
    "for _ in range(m):\n",
    "    bootstrap_x, bootstrap_y = bootstrap(x, y)\n",
    "    bootstrap_xs.append(bootstrap_x)\n",
    "    bootstrap_ys.append(bootstrap_y)\n",
    "    reg = LinearRegression().fit(bootstrap_x, bootstrap_y)\n",
    "    model_bs.append(reg)\n",
    "    A_bs.append(reg.intercept_)\n",
    "    B1_bs.append(reg.coef_[0])\n",
    "    B2_bs.append(reg.coef_[1])\n",
    "    \n",
    "# verify the output\n",
    "print(len(bootstrap_xs), len(bootstrap_ys), len(A_bs), len(B1_bs), len(B2_bs))"
   ]
  },
  {
   "cell_type": "code",
   "execution_count": 8,
   "metadata": {},
   "outputs": [
    {
     "name": "stdout",
     "output_type": "stream",
     "text": [
      "length of SE_B1: 100 , mean of SE_B1: 0.0124\n",
      "length of SE_B2: 100 , mean of SE_B2: 0.0236\n"
     ]
    }
   ],
   "source": [
    "# b\n",
    "k = bootstrap_xs[0].shape[1]\n",
    "n = bootstrap_xs[0].shape[0]\n",
    "\n",
    "SE_B1 = []\n",
    "SE_B2 = []\n",
    "for i in range(m):\n",
    "    E=bootstrap_ys[i]-model_bs[i].predict(bootstrap_xs[i])\n",
    "    SSE=sum(E**2)\n",
    "    SE=np.sqrt( SSE/(n-k-1) )\n",
    "    SE_B = SE/np.sqrt(sum((bootstrap_xs[i]-bootstrap_xs[i].mean())**2))\n",
    "    SE_B1.append(SE_B[0])\n",
    "    SE_B2.append(SE_B[1])\n",
    "print('length of SE_B1:', len(SE_B1), ', mean of SE_B1:', round(np.mean(SE_B1),4))\n",
    "print('length of SE_B2:', len(SE_B2), ', mean of SE_B2:', round(np.mean(SE_B2),4))"
   ]
  },
  {
   "cell_type": "markdown",
   "metadata": {},
   "source": [
    "- Part 1:\n",
    "\n",
    "`SE_B1 0.0139`\n",
    "\n",
    "`SE_B2 0.0265`\n",
    "\n",
    "By comparing the SE_B1 and SE_B2 in the part1, it's very close to the result from bootstrap."
   ]
  },
  {
   "cell_type": "code",
   "execution_count": 9,
   "metadata": {},
   "outputs": [
    {
     "name": "stdout",
     "output_type": "stream",
     "text": [
      "SE_y_hat_bs:  0.8313\n"
     ]
    }
   ],
   "source": [
    "# c\n",
    "y_hat_bs = [model_bs[i].predict(np.array([[5, 0.5]])) for i in range(m)]\n",
    "SE_y_hat_bs = []\n",
    "for i in range(m):\n",
    "    RSS = sum((bootstrap_ys[i]-y_hat_bs[i])**2)\n",
    "    SE_y_hat_bs.append((np.sqrt(RSS/(n-k-1)))/np.sqrt(n))\n",
    "print('SE_y_hat_bs: ', round(np.mean(SE_y_hat_bs),4))"
   ]
  },
  {
   "cell_type": "markdown",
   "metadata": {},
   "source": [
    "- Part 1:\n",
    "\n",
    "`SE_yhat 0.8362`\n",
    "\n",
    "By comparing the SE_yhat in the part1, it's very close to the result from bootstrap."
   ]
  },
  {
   "cell_type": "code",
   "execution_count": null,
   "metadata": {},
   "outputs": [],
   "source": []
  }
 ],
 "metadata": {
  "kernelspec": {
   "display_name": "Python 3",
   "language": "python",
   "name": "python3"
  },
  "language_info": {
   "codemirror_mode": {
    "name": "ipython",
    "version": 3
   },
   "file_extension": ".py",
   "mimetype": "text/x-python",
   "name": "python",
   "nbconvert_exporter": "python",
   "pygments_lexer": "ipython3",
   "version": "3.8.3"
  }
 },
 "nbformat": 4,
 "nbformat_minor": 4
}
