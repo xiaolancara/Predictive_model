{
 "cells": [
  {
   "cell_type": "code",
   "execution_count": 1,
   "metadata": {},
   "outputs": [],
   "source": [
    "import numpy as np\n",
    "import pandas as pd\n",
    "import statsmodels.api as sm"
   ]
  },
  {
   "cell_type": "markdown",
   "metadata": {},
   "source": [
    "## Data Set"
   ]
  },
  {
   "cell_type": "code",
   "execution_count": 2,
   "metadata": {},
   "outputs": [],
   "source": [
    "x1 = np.array([ 0.        ,  3.33333333,  6.66666667, 10.        ,  0.        ,\n",
    "        3.33333333,  6.66666667, 10.        ,  0.        ,  3.33333333,\n",
    "        6.66666667, 10.        ,  0.        ,  3.33333333,  6.66666667,\n",
    "       10.        ])\n",
    "x2 = np.array([0.        , 0.        , 0.        , 0.        , 0.33333333,\n",
    "       0.33333333, 0.33333333, 0.33333333, 0.66666667, 0.66666667,\n",
    "       0.66666667, 0.66666667, 1.        , 1.        , 1.        ,\n",
    "       1.        ])\n",
    "y = np.array([ 1.22353179,  3.57574634,  5.89217837,  8.19889324,  1.96307308,\n",
    "        4.57556858,  7.48364786,  9.2400334 ,  2.9048125 ,  5.74174653,\n",
    "        8.19832673, 10.69424417,  4.15380028,  7.12275093,  8.8976015 ,\n",
    "       11.76820779])"
   ]
  },
  {
   "cell_type": "code",
   "execution_count": 3,
   "metadata": {},
   "outputs": [],
   "source": [
    "X = pd.DataFrame({'x1':x1, 'x2':x2})"
   ]
  },
  {
   "cell_type": "markdown",
   "metadata": {},
   "source": [
    "## 1\n",
    "a) Run a linear regression to find A, B1, and B2.  \n",
    "b) Calculate SE(B1) and SE(B2)  \n",
    "c) Calculate a prediction, y_hat, at x1=5, x2=.5 along with $SE(yhat) = \\sqrt{RSS/(n-k-1)} / \\sqrt{n}$"
   ]
  },
  {
   "cell_type": "markdown",
   "metadata": {},
   "source": [
    "### a)"
   ]
  },
  {
   "cell_type": "code",
   "execution_count": 4,
   "metadata": {},
   "outputs": [],
   "source": [
    "# add constant ones column to incorporate intercept\n",
    "X = sm.add_constant(X)\n",
    "regress = sm.OLS(y, X)\n",
    "results = regress.fit()"
   ]
  },
  {
   "cell_type": "code",
   "execution_count": 5,
   "metadata": {},
   "outputs": [
    {
     "name": "stdout",
     "output_type": "stream",
     "text": [
      "A = 1.0324877889494957\n",
      "B1 = 0.7381831868215653\n",
      "B2 = 3.257462940135361\n"
     ]
    }
   ],
   "source": [
    "print(\"A =\", results.params[0])\n",
    "print(\"B1 =\", results.params[1])\n",
    "print(\"B2 =\", results.params[2])"
   ]
  },
  {
   "cell_type": "markdown",
   "metadata": {},
   "source": [
    "### b)"
   ]
  },
  {
   "cell_type": "code",
   "execution_count": 6,
   "metadata": {},
   "outputs": [
    {
     "name": "stdout",
     "output_type": "stream",
     "text": [
      "SE(B1) = 0.016217367403375465\n",
      "SE(B2) = 0.16217367374184205\n"
     ]
    }
   ],
   "source": [
    "print(\"SE(B1) =\", results.bse[1])\n",
    "print(\"SE(B2) =\", results.bse[2])"
   ]
  },
  {
   "cell_type": "markdown",
   "metadata": {},
   "source": [
    "### c)"
   ]
  },
  {
   "cell_type": "code",
   "execution_count": 7,
   "metadata": {},
   "outputs": [
    {
     "name": "stdout",
     "output_type": "stream",
     "text": [
      "y_hat = 6.352135193125003\n"
     ]
    }
   ],
   "source": [
    "# add constant entry to match required dimension\n",
    "yhat = results.predict([1, 5, 0.5])\n",
    "\n",
    "print(\"y_hat =\", yhat[0])"
   ]
  },
  {
   "cell_type": "code",
   "execution_count": 8,
   "metadata": {},
   "outputs": [
    {
     "name": "stdout",
     "output_type": "stream",
     "text": [
      "SE(yhat) = 0.8361772658727425\n"
     ]
    }
   ],
   "source": [
    "n = len(y)\n",
    "k = 2\n",
    "RSS = ((y - yhat)**2).sum()\n",
    "\n",
    "SE_yhat = np.sqrt(RSS / (n - k - 1)) / np.sqrt(n)\n",
    "\n",
    "print(\"SE(yhat) =\", SE_yhat)"
   ]
  },
  {
   "cell_type": "markdown",
   "metadata": {},
   "source": [
    "## 2\n",
    "a) Calculate m=100 bootstrap sample sets from the original set of 16 samples and, for each bootstrap sample set, estimate A_bs, B1_bs, and B2_bs by regression. (You'll have 100 estimates of each of A_bs, B1_bs, and B2_bs.)  \n",
    "b) Compute SE(B1_bs) and SE(B2_bs) directly from the m=100 samples. Do they match SE(B1) and SE(B2) from part 1, above?  \n",
    "c) For each model, A_bs, B1_bs, and B2_bs, calculate a prediction, y_hat_bs, at x1=5, x2=.5. From that set of predictions, compute SE(y_hat_bs). Does it match SE(y_hat) from part 1, above?  \n",
    "  \n",
    "  \n",
    "Hint: Be sure the values of y, x1, and x2 stay aligned when you draw a sample from the original data. Ex: Randomly drawing the i'th sample would yield (y[i],x1[i],x2[i]) -- all with the same i."
   ]
  },
  {
   "cell_type": "code",
   "execution_count": 9,
   "metadata": {},
   "outputs": [],
   "source": [
    "def bootstrap(m, x1, x2, y):\n",
    "    A_bs = np.zeros(m)\n",
    "    B1_bs = np.zeros(m)\n",
    "    B2_bs = np.zeros(m)\n",
    "    yhat = np.zeros(m)\n",
    "    n = len(y)\n",
    "    \n",
    "    # create m bootstrapped simulations\n",
    "    for i in range(m):\n",
    "        x1_bs = np.zeros(n)\n",
    "        x2_bs = np.zeros(n)\n",
    "        y_bs = np.zeros(n)\n",
    "        \n",
    "        # create bootstrapped data sample\n",
    "        # randomly pick an index to keep data aligned\n",
    "        for j in range(n):\n",
    "            s = np.random.choice(range(n))\n",
    "            x1_bs[j] = x1[s]\n",
    "            x2_bs[j] = x2[s]\n",
    "            y_bs[j] = y[s]\n",
    "        \n",
    "        X_bs = pd.DataFrame({'x1':x1_bs, 'x2':x2_bs})\n",
    "        X_bs = sm.add_constant(X_bs)\n",
    "        \n",
    "        # run bootstrapped sample regression\n",
    "        regress_bs = sm.OLS(y_bs, X_bs)\n",
    "        results_bs = regress_bs.fit()\n",
    "        \n",
    "        A_bs[i] = results_bs.params[0]\n",
    "        B1_bs[i] = results_bs.params[1]\n",
    "        B2_bs[i] = results_bs.params[2]\n",
    "        yhat[i] = (results_bs.predict([1, 5, 0.5]))[0]\n",
    "    \n",
    "    return A_bs, B1_bs, B2_bs, yhat"
   ]
  },
  {
   "cell_type": "markdown",
   "metadata": {},
   "source": [
    "### a)"
   ]
  },
  {
   "cell_type": "code",
   "execution_count": 10,
   "metadata": {},
   "outputs": [],
   "source": [
    "A_bs, B1_bs, B2_bs, yhat_bs = bootstrap(100, x1, x2, y)"
   ]
  },
  {
   "cell_type": "code",
   "execution_count": 11,
   "metadata": {},
   "outputs": [
    {
     "name": "stdout",
     "output_type": "stream",
     "text": [
      "Bootstrapped A = 1.0279436384560965\n",
      "Bootstrapped B1 = 0.7416140167517391\n",
      "Bootstrapped B2 = 3.2483165442877686\n"
     ]
    }
   ],
   "source": [
    "print(\"Bootstrapped A =\", A_bs.mean())\n",
    "print(\"Bootstrapped B1 =\", B1_bs.mean())\n",
    "print(\"Bootstrapped B2 =\", B2_bs.mean())"
   ]
  },
  {
   "cell_type": "markdown",
   "metadata": {},
   "source": [
    "### b)"
   ]
  },
  {
   "cell_type": "code",
   "execution_count": 12,
   "metadata": {},
   "outputs": [
    {
     "name": "stdout",
     "output_type": "stream",
     "text": [
      "Bootstrapped SE(B1) = 0.017247192937962653\n",
      "Bootstrapped SE(B2) = 0.16389826614066508\n"
     ]
    }
   ],
   "source": [
    "print(\"Bootstrapped SE(B1) =\", B1_bs.std())\n",
    "print(\"Bootstrapped SE(B2) =\", B2_bs.std())"
   ]
  },
  {
   "cell_type": "markdown",
   "metadata": {},
   "source": [
    "The standard errors of the regression coefficients for the bootstrapped data are very similar to those seen in the original regression."
   ]
  },
  {
   "cell_type": "markdown",
   "metadata": {},
   "source": [
    "### c)"
   ]
  },
  {
   "cell_type": "code",
   "execution_count": 13,
   "metadata": {},
   "outputs": [
    {
     "name": "stdout",
     "output_type": "stream",
     "text": [
      "Bootstrapped y_hat = 6.3601719943586765\n"
     ]
    }
   ],
   "source": [
    "print(\"Bootstrapped y_hat =\", yhat_bs.mean())"
   ]
  },
  {
   "cell_type": "code",
   "execution_count": 14,
   "metadata": {},
   "outputs": [
    {
     "name": "stdout",
     "output_type": "stream",
     "text": [
      "Bootstrapped SE(yhat) = 0.06530748463845208\n"
     ]
    }
   ],
   "source": [
    "print(\"Bootstrapped SE(yhat) =\", yhat_bs.std())"
   ]
  },
  {
   "cell_type": "markdown",
   "metadata": {},
   "source": [
    "The $SE(\\hat{Y})$ for the bootstrapped data ensemble is much smaller than it was for the original regression."
   ]
  }
 ],
 "metadata": {
  "kernelspec": {
   "display_name": "Python 3",
   "language": "python",
   "name": "python3"
  },
  "language_info": {
   "codemirror_mode": {
    "name": "ipython",
    "version": 3
   },
   "file_extension": ".py",
   "mimetype": "text/x-python",
   "name": "python",
   "nbconvert_exporter": "python",
   "pygments_lexer": "ipython3",
   "version": "3.8.3"
  }
 },
 "nbformat": 4,
 "nbformat_minor": 4
}
